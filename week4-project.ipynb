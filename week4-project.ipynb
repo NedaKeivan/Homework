{
 "cells": [
  {
   "cell_type": "markdown",
   "id": "2fc8f961",
   "metadata": {},
   "source": [
    "# My Jupyter Notebook on IBM Watson Studio"
   ]
  },
  {
   "cell_type": "markdown",
   "id": "edeea1c7",
   "metadata": {},
   "source": [
    "<b>Neda Keivandarian</b>\n",
    "<br>I am PhD student in computer science"
   ]
  },
  {
   "cell_type": "markdown",
   "id": "e85ed6e9",
   "metadata": {},
   "source": [
    "<i>I am intrested in Data Science because it is one of the most popular subject in the recend decade and I really like to work with ML algorithms</i>"
   ]
  },
  {
   "cell_type": "markdown",
   "id": "d8ec03f1",
   "metadata": {},
   "source": [
    "### The code in below print hello world "
   ]
  },
  {
   "cell_type": "code",
   "execution_count": 2,
   "id": "3e099ad7",
   "metadata": {},
   "outputs": [
    {
     "name": "stdout",
     "output_type": "stream",
     "text": [
      "hello world\n"
     ]
    }
   ],
   "source": [
    "print('hello world')"
   ]
  },
  {
   "cell_type": "markdown",
   "id": "0e2a50e0",
   "metadata": {},
   "source": [
    "| Name | Location | Age |\n",
    "| --- | --- | --- |\n",
    "| Neda | FL | 30 |\n",
    "\n",
    "---\n",
    "\n",
    "<ul>\n",
    "<li>Fish</li>\n",
    "<li>Eggs</li>\n",
    "<li>Cheese</li>\n",
    "</ul>"
   ]
  }
 ],
 "metadata": {
  "kernelspec": {
   "display_name": "Python 3 (ipykernel)",
   "language": "python",
   "name": "python3"
  },
  "language_info": {
   "codemirror_mode": {
    "name": "ipython",
    "version": 3
   },
   "file_extension": ".py",
   "mimetype": "text/x-python",
   "name": "python",
   "nbconvert_exporter": "python",
   "pygments_lexer": "ipython3",
   "version": "3.8.2"
  }
 },
 "nbformat": 4,
 "nbformat_minor": 5
}
